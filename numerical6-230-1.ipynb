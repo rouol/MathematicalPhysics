{
 "cells": [
  {
   "cell_type": "code",
   "execution_count": 41,
   "metadata": {},
   "outputs": [],
   "source": [
    "from sympy import *\n",
    "from sympy.abc import r, d, phi, theta, w"
   ]
  },
  {
   "cell_type": "code",
   "execution_count": 42,
   "metadata": {},
   "outputs": [
    {
     "data": {
      "text/latex": [
       "$\\displaystyle - \\frac{0.75 \\left(- d^{2} + r^{2}\\right) \\sin{\\left(\\theta \\right)} \\cos{\\left(\\phi \\right)}}{\\pi \\left(d^{2} - 2 d r \\cos{\\left(\\theta \\right)} + r^{2}\\right)^{\\frac{5}{2}}}$"
      ],
      "text/plain": [
       "-0.75*(-d**2 + r**2)*sin(theta)*cos(phi)/(pi*(d**2 - 2*d*r*cos(theta) + r**2)**(5/2))"
      ]
     },
     "execution_count": 42,
     "metadata": {},
     "output_type": "execute_result"
    }
   ],
   "source": [
    "sigma = -3/4/pi*(sin(theta)*cos(phi)*(r**2-d**2)/(r**2+d**2-2*r*d*cos(theta))**Rational(5/2))\n",
    "sigma"
   ]
  },
  {
   "cell_type": "code",
   "execution_count": 43,
   "metadata": {},
   "outputs": [
    {
     "data": {
      "text/latex": [
       "$\\displaystyle - \\frac{0.75 \\left(- d^{2} + r^{2}\\right) \\sin^{2}{\\left(\\theta \\right)} \\cos{\\left(\\phi \\right)}}{\\pi \\left(d^{2} - 2 d r \\cos{\\left(\\theta \\right)} + r^{2}\\right)^{\\frac{5}{2}}}$"
      ],
      "text/plain": [
       "-0.75*(-d**2 + r**2)*sin(theta)**2*cos(phi)/(pi*(d**2 - 2*d*r*cos(theta) + r**2)**(5/2))"
      ]
     },
     "execution_count": 43,
     "metadata": {},
     "output_type": "execute_result"
    }
   ],
   "source": [
    "intQ = sigma*sin(theta)\n",
    "intQ"
   ]
  },
  {
   "cell_type": "code",
   "execution_count": 44,
   "metadata": {},
   "outputs": [
    {
     "data": {
      "text/latex": [
       "$\\displaystyle 0$"
      ],
      "text/plain": [
       "0"
      ]
     },
     "execution_count": 44,
     "metadata": {},
     "output_type": "execute_result"
    }
   ],
   "source": [
    "Q = integrate(intQ, (phi, 0, 2*pi))\n",
    "Q"
   ]
  },
  {
   "cell_type": "code",
   "execution_count": 45,
   "metadata": {},
   "outputs": [
    {
     "data": {
      "text/plain": [
       "(-5.109182370129832e-19, 2.872238292000941e-10)"
      ]
     },
     "execution_count": 45,
     "metadata": {},
     "output_type": "execute_result"
    }
   ],
   "source": [
    "intQnum = lambdify((phi, theta, r, d), intQ, modules=['numpy', 'sympy'])\n",
    "dblquad(lambda y, x: intQnum(x, y, 10, 9), 0, 2*np.pi, lambda x: 0, lambda x: np.pi)"
   ]
  },
  {
   "cell_type": "code",
   "execution_count": 1,
   "metadata": {},
   "outputs": [],
   "source": [
    "import numpy as np\n",
    "from scipy.integrate import dblquad as dblquad\n",
    "from sympy import *\n",
    "from sympy.abc import r, d, phi, theta, w"
   ]
  },
  {
   "cell_type": "code",
   "execution_count": null,
   "metadata": {},
   "outputs": [],
   "source": [
    "intPnum = lambdify((phi, theta, r, d), intP, modules=['numpy', 'sympy'])\n",
    "f = lambda y, x: intPnum(x, y, 1, 3)\n",
    "intPnum(4, 3, 1, 2), f(3, 4)"
   ]
  },
  {
   "cell_type": "code",
   "execution_count": 28,
   "metadata": {},
   "outputs": [
    {
     "name": "stdout",
     "output_type": "stream",
     "text": [
      "2 0 1 0 3 -1.0000000000000002 2.220446049250313e-16\n"
     ]
    }
   ],
   "source": [
    "# f = [lambda y, x: intPnum(x, y, r, d)]\n",
    "for ap in range(0, 4, 1):\n",
    "    for bp in range(0, 4, 1):\n",
    "        for cp in range(0, 4, 1):\n",
    "            for dp in range(0, 4, 1):\n",
    "                for ep in range(0, 4, 1):\n",
    "                    intP = sigma*sin(theta)**ap*cos(theta)**bp*sin(phi)**cp*cos(phi)**dp*r**ep\n",
    "                    intPnum = lambdify((phi, theta, r, d), intP, modules=['numpy', 'sympy'])\n",
    "                    # f = lambda y, x: intPnum(x, y, r, d)\n",
    "                    res = []\n",
    "                    for _d in range(1, 3, 1):\n",
    "                        for _r in range(_d+1, 5, 1):\n",
    "                            res.append(dblquad(lambda y, x: intPnum(x, y, _r, _d), 0, 2*np.pi, lambda x: 0, lambda x: np.pi)[0])\n",
    "                    # if max(res) - min(res) < 1e3:\n",
    "                    if res[0] < -1e-8 or res[0] > 1e-8:\n",
    "                        if max(res) - min(res) < 1e-3:\n",
    "                            print(ap, bp, cp, dp, ep, res[0], max(res) - min(res))"
   ]
  },
  {
   "cell_type": "code",
   "execution_count": 3,
   "metadata": {},
   "outputs": [
    {
     "data": {
      "text/latex": [
       "$\\displaystyle - \\frac{0.75 r^{3} \\left(- d^{2} + r^{2}\\right) \\sin^{2}{\\left(\\phi \\right)} \\sin^{3}{\\left(\\theta \\right)}}{\\pi \\left(d^{2} - 2 d r \\sin{\\left(\\theta \\right)} \\cos{\\left(\\phi \\right)} + r^{2}\\right)^{\\frac{5}{2}}}$"
      ],
      "text/plain": [
       "-0.75*r**3*(-d**2 + r**2)*sin(phi)**2*sin(theta)**3/(pi*(d**2 - 2*d*r*sin(theta)*cos(phi) + r**2)**(5/2))"
      ]
     },
     "execution_count": 3,
     "metadata": {},
     "output_type": "execute_result"
    }
   ],
   "source": [
    "# 2 0 0 1 3\n",
    "# intP = sigma*sin(theta)**2*cos(theta)**0*sin(phi)**0*cos(phi)**1*r**3\n",
    "# intP\n",
    "# 2 0 0 1 3\n",
    "intP = sigma*sin(theta)**2*cos(theta)**0*sin(phi)**1*cos(phi)**0*r**3\n",
    "intP"
   ]
  },
  {
   "cell_type": "code",
   "execution_count": 30,
   "metadata": {},
   "outputs": [],
   "source": [
    "intPphi = integrate(intP, (phi, 0, 2*pi))\n",
    "intPphi"
   ]
  },
  {
   "cell_type": "code",
   "execution_count": 21,
   "metadata": {},
   "outputs": [
    {
     "data": {
      "text/latex": [
       "$\\displaystyle - 0.75 r^{3} \\left(- d^{2} + r^{2}\\right) \\left(\\begin{cases} \\tilde{\\infty} \\left(- \\sin^{2}{\\left(\\theta \\right)} \\cos{\\left(\\theta \\right)} - \\frac{2 \\cos^{3}{\\left(\\theta \\right)}}{3}\\right) & \\text{for}\\: d = 0 \\wedge r = 0 \\\\\\frac{- \\sin^{2}{\\left(\\theta \\right)} \\cos{\\left(\\theta \\right)} - \\frac{2 \\cos^{3}{\\left(\\theta \\right)}}{3}}{\\left(r^{2}\\right)^{\\frac{5}{2}}} & \\text{for}\\: d = 0 \\\\\\frac{- \\sin^{2}{\\left(\\theta \\right)} \\cos{\\left(\\theta \\right)} - \\frac{2 \\cos^{3}{\\left(\\theta \\right)}}{3}}{\\left(d^{2}\\right)^{\\frac{5}{2}}} & \\text{for}\\: r = 0 \\\\- \\frac{2 d^{4}}{3 d^{5} r^{3} \\sqrt{d^{2} - 2 d r \\cos{\\left(\\theta \\right)} + r^{2}} - 6 d^{4} r^{4} \\sqrt{d^{2} - 2 d r \\cos{\\left(\\theta \\right)} + r^{2}} \\cos{\\left(\\theta \\right)} + 3 d^{3} r^{5} \\sqrt{d^{2} - 2 d r \\cos{\\left(\\theta \\right)} + r^{2}}} + \\frac{6 d^{3} r \\cos{\\left(\\theta \\right)}}{3 d^{5} r^{3} \\sqrt{d^{2} - 2 d r \\cos{\\left(\\theta \\right)} + r^{2}} - 6 d^{4} r^{4} \\sqrt{d^{2} - 2 d r \\cos{\\left(\\theta \\right)} + r^{2}} \\cos{\\left(\\theta \\right)} + 3 d^{3} r^{5} \\sqrt{d^{2} - 2 d r \\cos{\\left(\\theta \\right)} + r^{2}}} - \\frac{d^{2} r^{2} \\sin^{2}{\\left(\\theta \\right)}}{3 d^{5} r^{3} \\sqrt{d^{2} - 2 d r \\cos{\\left(\\theta \\right)} + r^{2}} - 6 d^{4} r^{4} \\sqrt{d^{2} - 2 d r \\cos{\\left(\\theta \\right)} + r^{2}} \\cos{\\left(\\theta \\right)} + 3 d^{3} r^{5} \\sqrt{d^{2} - 2 d r \\cos{\\left(\\theta \\right)} + r^{2}}} - \\frac{4 d^{2} r^{2} \\cos^{2}{\\left(\\theta \\right)}}{3 d^{5} r^{3} \\sqrt{d^{2} - 2 d r \\cos{\\left(\\theta \\right)} + r^{2}} - 6 d^{4} r^{4} \\sqrt{d^{2} - 2 d r \\cos{\\left(\\theta \\right)} + r^{2}} \\cos{\\left(\\theta \\right)} + 3 d^{3} r^{5} \\sqrt{d^{2} - 2 d r \\cos{\\left(\\theta \\right)} + r^{2}}} - \\frac{4 d^{2} r^{2}}{3 d^{5} r^{3} \\sqrt{d^{2} - 2 d r \\cos{\\left(\\theta \\right)} + r^{2}} - 6 d^{4} r^{4} \\sqrt{d^{2} - 2 d r \\cos{\\left(\\theta \\right)} + r^{2}} \\cos{\\left(\\theta \\right)} + 3 d^{3} r^{5} \\sqrt{d^{2} - 2 d r \\cos{\\left(\\theta \\right)} + r^{2}}} + \\frac{6 d r^{3} \\cos{\\left(\\theta \\right)}}{3 d^{5} r^{3} \\sqrt{d^{2} - 2 d r \\cos{\\left(\\theta \\right)} + r^{2}} - 6 d^{4} r^{4} \\sqrt{d^{2} - 2 d r \\cos{\\left(\\theta \\right)} + r^{2}} \\cos{\\left(\\theta \\right)} + 3 d^{3} r^{5} \\sqrt{d^{2} - 2 d r \\cos{\\left(\\theta \\right)} + r^{2}}} - \\frac{2 r^{4}}{3 d^{5} r^{3} \\sqrt{d^{2} - 2 d r \\cos{\\left(\\theta \\right)} + r^{2}} - 6 d^{4} r^{4} \\sqrt{d^{2} - 2 d r \\cos{\\left(\\theta \\right)} + r^{2}} \\cos{\\left(\\theta \\right)} + 3 d^{3} r^{5} \\sqrt{d^{2} - 2 d r \\cos{\\left(\\theta \\right)} + r^{2}}} & \\text{otherwise} \\end{cases}\\right)$"
      ],
      "text/plain": [
       "-0.75*r**3*(-d**2 + r**2)*Piecewise((zoo*(-sin(theta)**2*cos(theta) - 2*cos(theta)**3/3), Eq(d, 0) & Eq(r, 0)), ((-sin(theta)**2*cos(theta) - 2*cos(theta)**3/3)/(r**2)**(5/2), Eq(d, 0)), ((-sin(theta)**2*cos(theta) - 2*cos(theta)**3/3)/(d**2)**(5/2), Eq(r, 0)), (-2*d**4/(3*d**5*r**3*sqrt(d**2 - 2*d*r*cos(theta) + r**2) - 6*d**4*r**4*sqrt(d**2 - 2*d*r*cos(theta) + r**2)*cos(theta) + 3*d**3*r**5*sqrt(d**2 - 2*d*r*cos(theta) + r**2)) + 6*d**3*r*cos(theta)/(3*d**5*r**3*sqrt(d**2 - 2*d*r*cos(theta) + r**2) - 6*d**4*r**4*sqrt(d**2 - 2*d*r*cos(theta) + r**2)*cos(theta) + 3*d**3*r**5*sqrt(d**2 - 2*d*r*cos(theta) + r**2)) - d**2*r**2*sin(theta)**2/(3*d**5*r**3*sqrt(d**2 - 2*d*r*cos(theta) + r**2) - 6*d**4*r**4*sqrt(d**2 - 2*d*r*cos(theta) + r**2)*cos(theta) + 3*d**3*r**5*sqrt(d**2 - 2*d*r*cos(theta) + r**2)) - 4*d**2*r**2*cos(theta)**2/(3*d**5*r**3*sqrt(d**2 - 2*d*r*cos(theta) + r**2) - 6*d**4*r**4*sqrt(d**2 - 2*d*r*cos(theta) + r**2)*cos(theta) + 3*d**3*r**5*sqrt(d**2 - 2*d*r*cos(theta) + r**2)) - 4*d**2*r**2/(3*d**5*r**3*sqrt(d**2 - 2*d*r*cos(theta) + r**2) - 6*d**4*r**4*sqrt(d**2 - 2*d*r*cos(theta) + r**2)*cos(theta) + 3*d**3*r**5*sqrt(d**2 - 2*d*r*cos(theta) + r**2)) + 6*d*r**3*cos(theta)/(3*d**5*r**3*sqrt(d**2 - 2*d*r*cos(theta) + r**2) - 6*d**4*r**4*sqrt(d**2 - 2*d*r*cos(theta) + r**2)*cos(theta) + 3*d**3*r**5*sqrt(d**2 - 2*d*r*cos(theta) + r**2)) - 2*r**4/(3*d**5*r**3*sqrt(d**2 - 2*d*r*cos(theta) + r**2) - 6*d**4*r**4*sqrt(d**2 - 2*d*r*cos(theta) + r**2)*cos(theta) + 3*d**3*r**5*sqrt(d**2 - 2*d*r*cos(theta) + r**2)), True))"
      ]
     },
     "execution_count": 21,
     "metadata": {},
     "output_type": "execute_result"
    }
   ],
   "source": [
    "P = integrate(intPphi, theta)#(theta, 0, pi))\n",
    "P"
   ]
  },
  {
   "cell_type": "code",
   "execution_count": 5,
   "metadata": {},
   "outputs": [
    {
     "data": {
      "text/plain": [
       "(-1.0000000000000036, 1.4798385454033787e-08)"
      ]
     },
     "execution_count": 5,
     "metadata": {},
     "output_type": "execute_result"
    }
   ],
   "source": [
    "intPnum = lambdify((phi, theta, r, d), intP, modules=['numpy', 'sympy'])\n",
    "dblquad(lambda y, x: intPnum(x, y, 6, 5), 0, 2*np.pi, lambda x: 0, lambda x: np.pi)"
   ]
  },
  {
   "cell_type": "code",
   "execution_count": 35,
   "metadata": {},
   "outputs": [],
   "source": [
    "import numpy as np\n",
    "import plotly.graph_objects as go\n",
    "\n",
    "# graph = lambda r0, d: -(r0**3*np.sqrt(d**2 + r0**2)*(d**4 - r0**4))/(d**4 + d**2*r0**2 + r0**4)**2/np.pi\n",
    "graph = lambda r0, d: dblquad(lambda y, x: intPnum(x, y, r0, d), 0, 2*np.pi, lambda x: 0, lambda x: np.pi)[0]\n",
    "r0s = np.linspace(0, 10, 21)\n",
    "ds = np.linspace(0, 10, 21)\n",
    "\n",
    "zs = np.zeros((r0s.shape[0], ds.shape[0]))\n",
    "for i, r0 in enumerate(r0s):\n",
    "    for j, d in enumerate(ds):\n",
    "        zs[i][j] = graph(r0, d)"
   ]
  },
  {
   "cell_type": "code",
   "execution_count": 39,
   "metadata": {},
   "outputs": [
    {
     "data": {
      "application/vnd.plotly.v1+json": {
       "config": {
        "plotlyServerURL": "https://plot.ly"
       },
       "data": [
        {
         "type": "heatmap",
         "x": [
          0,
          0.5,
          1,
          1.5,
          2,
          2.5,
          3,
          3.5,
          4,
          4.5,
          5,
          5.5,
          6,
          6.5,
          7,
          7.5,
          8,
          8.5,
          9,
          9.5,
          10
         ],
         "y": [
          0,
          0.5,
          1,
          1.5,
          2,
          2.5,
          3,
          3.5,
          4,
          4.5,
          5,
          5.5,
          6,
          6.5,
          7,
          7.5,
          8,
          8.5,
          9,
          9.5,
          10
         ],
         "z": [
          [
           null,
           0,
           0,
           0,
           0,
           0,
           0,
           0,
           0,
           0,
           0,
           0,
           0,
           0,
           0,
           0,
           0,
           0,
           0,
           0,
           0
          ],
          [
           -1,
           0,
           0.12500000000000003,
           0.03703703703702606,
           0.015625000000000007,
           0.008000000000000142,
           0.004629629629629656,
           0.0029154518950437348,
           0.001953125000000001,
           0.0013717421124810744,
           0.0009999999999987252,
           0.000751314800900899,
           0.0005787037037033801,
           0.0004551661356393654,
           0.0003644314868804093,
           0.00029629629629627764,
           0.0002441406249999978,
           0.00020354162426216557,
           0.00017146776406036228,
           0.00014579384749964101,
           0.00012500000000000475
          ],
          [
           -1,
           -1.0000000000000002,
           0,
           0.29629629629629634,
           0.12500000000000003,
           0.06400000000000004,
           0.03703703703702606,
           0.023323615160349864,
           0.015625000000000007,
           0.010973936899862907,
           0.008000000000000142,
           0.006010518407212713,
           0.004629629629629656,
           0.003641329085116076,
           0.0029154518950437348,
           0.0023703703703703716,
           0.001953125000000001,
           0.0016283329940972931,
           0.0013717421124810744,
           0.0011663507799954775,
           0.0009999999999987252
          ],
          [
           -1,
           -1,
           -1.0000000000000002,
           0,
           0.42187500000000167,
           0.21600000000000164,
           0.12500000000000003,
           0.07871720116618078,
           0.05273437500000002,
           0.03703703703702606,
           0.02700000000000002,
           0.020285499624342302,
           0.015625000000000007,
           0.012289485662266845,
           0.009839650145772694,
           0.008000000000000142,
           0.006591796875000142,
           0.005495623855078423,
           0.004629629629629656,
           0.003936433882490172,
           0.003375000000000006
          ],
          [
           -1,
           -1,
           -1.0000000000000002,
           -1.0000000000000004,
           0,
           0.5120000000000047,
           0.29629629629629634,
           0.18658892128279977,
           0.12500000000000003,
           0.08779149519890264,
           0.06400000000000004,
           0.048084147257700986,
           0.03703703703702606,
           0.029130632680928567,
           0.023323615160349864,
           0.01896296296296281,
           0.015625000000000007,
           0.013026663952778482,
           0.010973936899862907,
           0.009330806239976749,
           0.008000000000000142
          ],
          [
           -0.9999999999999999,
           -1.0000000000000018,
           -1.0000000000000002,
           -1.0000000000000082,
           -1.0000000000000093,
           0,
           0.5787037037037073,
           0.3644314868804675,
           0.24414062499999997,
           0.17146776406035738,
           0.12500000000000006,
           0.09391435011269729,
           0.07233796296296298,
           0.056895766954938566,
           0.04555393586005832,
           0.03703703703702606,
           0.03051757812500003,
           0.025442703032770214,
           0.02143347050754409,
           0.01822423093745434,
           0.015625000000000007
          ],
          [
           -1,
           -1,
           -1,
           -1.0000000000000002,
           -1.0000000000000002,
           -1.0000000000000036,
           0,
           0.6297376093294461,
           0.42187500000000167,
           0.2962962962962963,
           0.21600000000000164,
           0.16228399699474116,
           0.12500000000000003,
           0.09831588529813393,
           0.07871720116618078,
           0.06400000000000002,
           0.05273437500000002,
           0.04396499084062692,
           0.03703703703702606,
           0.0314914710599213,
           0.02700000000000002
          ],
          [
           -0.9999999999999999,
           -1,
           -1,
           -1.0000000000000004,
           -1.0000000000000022,
           -1.0000000000000002,
           -1.0000000000000002,
           0,
           0.6699218750000013,
           0.4705075445816217,
           0.3430000000000021,
           0.2577009767092431,
           0.1984953703703725,
           0.15612198452435166,
           0.12500000000000003,
           0.10162962962962978,
           0.08374023437500003,
           0.06981477712192144,
           0.05881344307270236,
           0.050007289692374994,
           0.042875
          ],
          [
           -1,
           -1,
           -1,
           -1.0000000000000002,
           -1.0000000000000002,
           -1,
           -1.0000000000000004,
           -1.0000000000000024,
           0,
           0.7023319615912252,
           0.5120000000000047,
           0.384673178061609,
           0.29629629629629634,
           0.23304506144743106,
           0.18658892128279977,
           0.15170370370370392,
           0.12500000000000003,
           0.10421331162222688,
           0.08779149519890264,
           0.0746464499198134,
           0.06400000000000004
          ],
          [
           -1,
           -1,
           -1.0000000000000002,
           -1,
           -1.0000000000000004,
           -1.0000000000000009,
           -1,
           -1.0000000000000064,
           -1.0000000000000047,
           0,
           0.7290000000000039,
           0.5477084898572401,
           0.42187500000000155,
           0.33181611288120194,
           0.26567055393586425,
           0.2160000000000017,
           0.17797851562500072,
           0.14838184408711594,
           0.12500000000000003,
           0.10628371482723446,
           0.09112500000000007
          ],
          [
           -0.9999999999999999,
           -1,
           -1.0000000000000018,
           -1,
           -1.0000000000000002,
           -1.0000000000000002,
           -1.0000000000000082,
           -1.0000000000000027,
           -1.0000000000000093,
           -1.0000000000000036,
           0,
           0.7513148009015812,
           0.5787037037037073,
           0.4551661356395129,
           0.3644314868804675,
           0.2962962962962964,
           0.24414062499999997,
           0.2035416242621635,
           0.17146776406035738,
           0.14579384749963561,
           0.12500000000000006
          ],
          [
           -1,
           -1,
           -1.0000000000000004,
           -1.0000000000000002,
           -1,
           -1.0000000000000009,
           -1.0000000000000004,
           -1.0000000000000002,
           -1.0000000000000002,
           -0.9999999999999736,
           -1.0000000000000044,
           0,
           0.7702546296296345,
           0.6058261265361855,
           0.48505830903790553,
           0.3943703703703706,
           0.3249511718750032,
           0.2709139018929414,
           0.22822359396433717,
           0.19405161102198867,
           0.16637500000000052
          ],
          [
           -1,
           -1,
           -1,
           -1,
           -1,
           -1,
           -1.0000000000000002,
           -1.000000000000006,
           -1.0000000000000002,
           -1.0000000000000002,
           -1.0000000000000036,
           -1.0000000000000047,
           0,
           0.7865270823850796,
           0.6297376093294461,
           0.5120000000000048,
           0.42187500000000167,
           0.3517199267250172,
           0.2962962962962963,
           0.25193176847937016,
           0.21600000000000164
          ],
          [
           -0.9999999999999999,
           -1,
           -0.9999999999999999,
           -1,
           -1.0000000000000002,
           -1,
           -1.0000000000000007,
           -1.0000000000000004,
           -1.0000000000000118,
           -1.0000000000000033,
           -1.0000000000000002,
           -0.9999999999999997,
           -1.0000000000000115,
           0,
           0.8006559766763919,
           0.6509629629629663,
           0.536376953125002,
           0.4471809485039724,
           0.37671467764060573,
           0.32030908295670535,
           0.2746250000000022
          ],
          [
           -0.9999999999999999,
           -1,
           -1,
           -1,
           -1,
           -1,
           -1.0000000000000004,
           -1.0000000000000002,
           -1.0000000000000022,
           -1.000000000000016,
           -1.0000000000000002,
           -1.000000000000003,
           -1.0000000000000002,
           -1.0000000000000087,
           0,
           0.8130370370370115,
           0.6699218750000013,
           0.5585182169753751,
           0.4705075445816217,
           0.4000583175390014,
           0.3430000000000021
          ],
          [
           -1,
           -1,
           -1,
           -1.0000000000000018,
           -1.0000000000000002,
           -1,
           -1.0000000000000002,
           -1.0000000000000009,
           -1.0000000000000002,
           -1.000000000000008,
           -1.0000000000000002,
           -1.0000000000000002,
           -1.0000000000000093,
           -1.000000000000005,
           -1.0000000000000062,
           0,
           0.8239746093750101,
           0.6869529818847951,
           0.5787037037037076,
           0.4920542353112699,
           0.4218750000000018
          ],
          [
           -1,
           -1,
           -1,
           -1.0000000000000009,
           -1,
           -1,
           -1.0000000000000002,
           -1.0000000000000007,
           -1.0000000000000002,
           -1.0000000000000009,
           -1,
           -1.0000000000000013,
           -1.0000000000000004,
           -1.0000000000000007,
           -1.0000000000000024,
           -1.0000000000000122,
           0,
           0.8337064929800247,
           0.7023319615912252,
           0.597171599358509,
           0.5120000000000047
          ],
          [
           -0.9999999999999999,
           -1,
           -1,
           -1.0000000000000002,
           -1,
           -1,
           -1.0000000000000002,
           -1.0000000000000002,
           -1,
           -1.0000000000000004,
           -1.0000000000000047,
           -1.0000000000000002,
           -1.0000000000000053,
           -1.0000000000000033,
           -1.0000000000000062,
           -0.9999999999999996,
           -1.0000000000026519,
           0,
           0.8424211248285437,
           0.7162851727657149,
           0.6141250000000009
          ],
          [
           -1,
           -1,
           -1,
           -1,
           -1.0000000000000002,
           -1.0000000000000002,
           -1,
           -1.0000000000000002,
           -1.0000000000000004,
           -1.0000000000000002,
           -1.0000000000000009,
           -1,
           -1,
           -1.0000000000000058,
           -1.0000000000000064,
           -1.000000000000004,
           -1.0000000000000047,
           -1.0000000000000135,
           0,
           0.8502697186178866,
           0.7290000000000039
          ],
          [
           -1,
           -1,
           -0.9999999999999999,
           -1,
           -1,
           -1,
           -1.0000000000000002,
           -1.0000000000000002,
           -1,
           -1.0000000000000002,
           -1.0000000000000002,
           -0.9999999999999312,
           -1,
           -1.00000000000001,
           -1.0000000000000004,
           -1.0000000000000002,
           -1.000000000000003,
           -1.0000000000000058,
           -1.0000000000000144,
           0,
           0.8573750000000095
          ],
          [
           -0.9999999999999999,
           -0.9999999999999999,
           -1,
           -1,
           -1.0000000000000018,
           -1.0000000000000002,
           -1,
           -1.0000000000000002,
           -1.0000000000000002,
           -1.0000000000000009,
           -1.0000000000000002,
           -1.0000000000000004,
           -1.0000000000000082,
           -1.0000000000000002,
           -1.0000000000000027,
           -1.0000000000000007,
           -1.0000000000000093,
           -0.9999999999999997,
           -1.0000000000000036,
           -1.000000000000011,
           0
          ]
         ],
         "zsmooth": "best"
        }
       ],
       "layout": {
        "autosize": false,
        "height": 400,
        "margin": {
         "b": 15,
         "l": 15,
         "r": 15,
         "t": 35
        },
        "template": {
         "data": {
          "bar": [
           {
            "error_x": {
             "color": "#2a3f5f"
            },
            "error_y": {
             "color": "#2a3f5f"
            },
            "marker": {
             "line": {
              "color": "#E5ECF6",
              "width": 0.5
             },
             "pattern": {
              "fillmode": "overlay",
              "size": 10,
              "solidity": 0.2
             }
            },
            "type": "bar"
           }
          ],
          "barpolar": [
           {
            "marker": {
             "line": {
              "color": "#E5ECF6",
              "width": 0.5
             },
             "pattern": {
              "fillmode": "overlay",
              "size": 10,
              "solidity": 0.2
             }
            },
            "type": "barpolar"
           }
          ],
          "carpet": [
           {
            "aaxis": {
             "endlinecolor": "#2a3f5f",
             "gridcolor": "white",
             "linecolor": "white",
             "minorgridcolor": "white",
             "startlinecolor": "#2a3f5f"
            },
            "baxis": {
             "endlinecolor": "#2a3f5f",
             "gridcolor": "white",
             "linecolor": "white",
             "minorgridcolor": "white",
             "startlinecolor": "#2a3f5f"
            },
            "type": "carpet"
           }
          ],
          "choropleth": [
           {
            "colorbar": {
             "outlinewidth": 0,
             "ticks": ""
            },
            "type": "choropleth"
           }
          ],
          "contour": [
           {
            "colorbar": {
             "outlinewidth": 0,
             "ticks": ""
            },
            "colorscale": [
             [
              0,
              "#0d0887"
             ],
             [
              0.1111111111111111,
              "#46039f"
             ],
             [
              0.2222222222222222,
              "#7201a8"
             ],
             [
              0.3333333333333333,
              "#9c179e"
             ],
             [
              0.4444444444444444,
              "#bd3786"
             ],
             [
              0.5555555555555556,
              "#d8576b"
             ],
             [
              0.6666666666666666,
              "#ed7953"
             ],
             [
              0.7777777777777778,
              "#fb9f3a"
             ],
             [
              0.8888888888888888,
              "#fdca26"
             ],
             [
              1,
              "#f0f921"
             ]
            ],
            "type": "contour"
           }
          ],
          "contourcarpet": [
           {
            "colorbar": {
             "outlinewidth": 0,
             "ticks": ""
            },
            "type": "contourcarpet"
           }
          ],
          "heatmap": [
           {
            "colorbar": {
             "outlinewidth": 0,
             "ticks": ""
            },
            "colorscale": [
             [
              0,
              "#0d0887"
             ],
             [
              0.1111111111111111,
              "#46039f"
             ],
             [
              0.2222222222222222,
              "#7201a8"
             ],
             [
              0.3333333333333333,
              "#9c179e"
             ],
             [
              0.4444444444444444,
              "#bd3786"
             ],
             [
              0.5555555555555556,
              "#d8576b"
             ],
             [
              0.6666666666666666,
              "#ed7953"
             ],
             [
              0.7777777777777778,
              "#fb9f3a"
             ],
             [
              0.8888888888888888,
              "#fdca26"
             ],
             [
              1,
              "#f0f921"
             ]
            ],
            "type": "heatmap"
           }
          ],
          "heatmapgl": [
           {
            "colorbar": {
             "outlinewidth": 0,
             "ticks": ""
            },
            "colorscale": [
             [
              0,
              "#0d0887"
             ],
             [
              0.1111111111111111,
              "#46039f"
             ],
             [
              0.2222222222222222,
              "#7201a8"
             ],
             [
              0.3333333333333333,
              "#9c179e"
             ],
             [
              0.4444444444444444,
              "#bd3786"
             ],
             [
              0.5555555555555556,
              "#d8576b"
             ],
             [
              0.6666666666666666,
              "#ed7953"
             ],
             [
              0.7777777777777778,
              "#fb9f3a"
             ],
             [
              0.8888888888888888,
              "#fdca26"
             ],
             [
              1,
              "#f0f921"
             ]
            ],
            "type": "heatmapgl"
           }
          ],
          "histogram": [
           {
            "marker": {
             "pattern": {
              "fillmode": "overlay",
              "size": 10,
              "solidity": 0.2
             }
            },
            "type": "histogram"
           }
          ],
          "histogram2d": [
           {
            "colorbar": {
             "outlinewidth": 0,
             "ticks": ""
            },
            "colorscale": [
             [
              0,
              "#0d0887"
             ],
             [
              0.1111111111111111,
              "#46039f"
             ],
             [
              0.2222222222222222,
              "#7201a8"
             ],
             [
              0.3333333333333333,
              "#9c179e"
             ],
             [
              0.4444444444444444,
              "#bd3786"
             ],
             [
              0.5555555555555556,
              "#d8576b"
             ],
             [
              0.6666666666666666,
              "#ed7953"
             ],
             [
              0.7777777777777778,
              "#fb9f3a"
             ],
             [
              0.8888888888888888,
              "#fdca26"
             ],
             [
              1,
              "#f0f921"
             ]
            ],
            "type": "histogram2d"
           }
          ],
          "histogram2dcontour": [
           {
            "colorbar": {
             "outlinewidth": 0,
             "ticks": ""
            },
            "colorscale": [
             [
              0,
              "#0d0887"
             ],
             [
              0.1111111111111111,
              "#46039f"
             ],
             [
              0.2222222222222222,
              "#7201a8"
             ],
             [
              0.3333333333333333,
              "#9c179e"
             ],
             [
              0.4444444444444444,
              "#bd3786"
             ],
             [
              0.5555555555555556,
              "#d8576b"
             ],
             [
              0.6666666666666666,
              "#ed7953"
             ],
             [
              0.7777777777777778,
              "#fb9f3a"
             ],
             [
              0.8888888888888888,
              "#fdca26"
             ],
             [
              1,
              "#f0f921"
             ]
            ],
            "type": "histogram2dcontour"
           }
          ],
          "mesh3d": [
           {
            "colorbar": {
             "outlinewidth": 0,
             "ticks": ""
            },
            "type": "mesh3d"
           }
          ],
          "parcoords": [
           {
            "line": {
             "colorbar": {
              "outlinewidth": 0,
              "ticks": ""
             }
            },
            "type": "parcoords"
           }
          ],
          "pie": [
           {
            "automargin": true,
            "type": "pie"
           }
          ],
          "scatter": [
           {
            "fillpattern": {
             "fillmode": "overlay",
             "size": 10,
             "solidity": 0.2
            },
            "type": "scatter"
           }
          ],
          "scatter3d": [
           {
            "line": {
             "colorbar": {
              "outlinewidth": 0,
              "ticks": ""
             }
            },
            "marker": {
             "colorbar": {
              "outlinewidth": 0,
              "ticks": ""
             }
            },
            "type": "scatter3d"
           }
          ],
          "scattercarpet": [
           {
            "marker": {
             "colorbar": {
              "outlinewidth": 0,
              "ticks": ""
             }
            },
            "type": "scattercarpet"
           }
          ],
          "scattergeo": [
           {
            "marker": {
             "colorbar": {
              "outlinewidth": 0,
              "ticks": ""
             }
            },
            "type": "scattergeo"
           }
          ],
          "scattergl": [
           {
            "marker": {
             "colorbar": {
              "outlinewidth": 0,
              "ticks": ""
             }
            },
            "type": "scattergl"
           }
          ],
          "scattermapbox": [
           {
            "marker": {
             "colorbar": {
              "outlinewidth": 0,
              "ticks": ""
             }
            },
            "type": "scattermapbox"
           }
          ],
          "scatterpolar": [
           {
            "marker": {
             "colorbar": {
              "outlinewidth": 0,
              "ticks": ""
             }
            },
            "type": "scatterpolar"
           }
          ],
          "scatterpolargl": [
           {
            "marker": {
             "colorbar": {
              "outlinewidth": 0,
              "ticks": ""
             }
            },
            "type": "scatterpolargl"
           }
          ],
          "scatterternary": [
           {
            "marker": {
             "colorbar": {
              "outlinewidth": 0,
              "ticks": ""
             }
            },
            "type": "scatterternary"
           }
          ],
          "surface": [
           {
            "colorbar": {
             "outlinewidth": 0,
             "ticks": ""
            },
            "colorscale": [
             [
              0,
              "#0d0887"
             ],
             [
              0.1111111111111111,
              "#46039f"
             ],
             [
              0.2222222222222222,
              "#7201a8"
             ],
             [
              0.3333333333333333,
              "#9c179e"
             ],
             [
              0.4444444444444444,
              "#bd3786"
             ],
             [
              0.5555555555555556,
              "#d8576b"
             ],
             [
              0.6666666666666666,
              "#ed7953"
             ],
             [
              0.7777777777777778,
              "#fb9f3a"
             ],
             [
              0.8888888888888888,
              "#fdca26"
             ],
             [
              1,
              "#f0f921"
             ]
            ],
            "type": "surface"
           }
          ],
          "table": [
           {
            "cells": {
             "fill": {
              "color": "#EBF0F8"
             },
             "line": {
              "color": "white"
             }
            },
            "header": {
             "fill": {
              "color": "#C8D4E3"
             },
             "line": {
              "color": "white"
             }
            },
            "type": "table"
           }
          ]
         },
         "layout": {
          "annotationdefaults": {
           "arrowcolor": "#2a3f5f",
           "arrowhead": 0,
           "arrowwidth": 1
          },
          "autotypenumbers": "strict",
          "coloraxis": {
           "colorbar": {
            "outlinewidth": 0,
            "ticks": ""
           }
          },
          "colorscale": {
           "diverging": [
            [
             0,
             "#8e0152"
            ],
            [
             0.1,
             "#c51b7d"
            ],
            [
             0.2,
             "#de77ae"
            ],
            [
             0.3,
             "#f1b6da"
            ],
            [
             0.4,
             "#fde0ef"
            ],
            [
             0.5,
             "#f7f7f7"
            ],
            [
             0.6,
             "#e6f5d0"
            ],
            [
             0.7,
             "#b8e186"
            ],
            [
             0.8,
             "#7fbc41"
            ],
            [
             0.9,
             "#4d9221"
            ],
            [
             1,
             "#276419"
            ]
           ],
           "sequential": [
            [
             0,
             "#0d0887"
            ],
            [
             0.1111111111111111,
             "#46039f"
            ],
            [
             0.2222222222222222,
             "#7201a8"
            ],
            [
             0.3333333333333333,
             "#9c179e"
            ],
            [
             0.4444444444444444,
             "#bd3786"
            ],
            [
             0.5555555555555556,
             "#d8576b"
            ],
            [
             0.6666666666666666,
             "#ed7953"
            ],
            [
             0.7777777777777778,
             "#fb9f3a"
            ],
            [
             0.8888888888888888,
             "#fdca26"
            ],
            [
             1,
             "#f0f921"
            ]
           ],
           "sequentialminus": [
            [
             0,
             "#0d0887"
            ],
            [
             0.1111111111111111,
             "#46039f"
            ],
            [
             0.2222222222222222,
             "#7201a8"
            ],
            [
             0.3333333333333333,
             "#9c179e"
            ],
            [
             0.4444444444444444,
             "#bd3786"
            ],
            [
             0.5555555555555556,
             "#d8576b"
            ],
            [
             0.6666666666666666,
             "#ed7953"
            ],
            [
             0.7777777777777778,
             "#fb9f3a"
            ],
            [
             0.8888888888888888,
             "#fdca26"
            ],
            [
             1,
             "#f0f921"
            ]
           ]
          },
          "colorway": [
           "#636efa",
           "#EF553B",
           "#00cc96",
           "#ab63fa",
           "#FFA15A",
           "#19d3f3",
           "#FF6692",
           "#B6E880",
           "#FF97FF",
           "#FECB52"
          ],
          "font": {
           "color": "#2a3f5f"
          },
          "geo": {
           "bgcolor": "white",
           "lakecolor": "white",
           "landcolor": "#E5ECF6",
           "showlakes": true,
           "showland": true,
           "subunitcolor": "white"
          },
          "hoverlabel": {
           "align": "left"
          },
          "hovermode": "closest",
          "mapbox": {
           "style": "light"
          },
          "paper_bgcolor": "white",
          "plot_bgcolor": "#E5ECF6",
          "polar": {
           "angularaxis": {
            "gridcolor": "white",
            "linecolor": "white",
            "ticks": ""
           },
           "bgcolor": "#E5ECF6",
           "radialaxis": {
            "gridcolor": "white",
            "linecolor": "white",
            "ticks": ""
           }
          },
          "scene": {
           "xaxis": {
            "backgroundcolor": "#E5ECF6",
            "gridcolor": "white",
            "gridwidth": 2,
            "linecolor": "white",
            "showbackground": true,
            "ticks": "",
            "zerolinecolor": "white"
           },
           "yaxis": {
            "backgroundcolor": "#E5ECF6",
            "gridcolor": "white",
            "gridwidth": 2,
            "linecolor": "white",
            "showbackground": true,
            "ticks": "",
            "zerolinecolor": "white"
           },
           "zaxis": {
            "backgroundcolor": "#E5ECF6",
            "gridcolor": "white",
            "gridwidth": 2,
            "linecolor": "white",
            "showbackground": true,
            "ticks": "",
            "zerolinecolor": "white"
           }
          },
          "shapedefaults": {
           "line": {
            "color": "#2a3f5f"
           }
          },
          "ternary": {
           "aaxis": {
            "gridcolor": "white",
            "linecolor": "white",
            "ticks": ""
           },
           "baxis": {
            "gridcolor": "white",
            "linecolor": "white",
            "ticks": ""
           },
           "bgcolor": "#E5ECF6",
           "caxis": {
            "gridcolor": "white",
            "linecolor": "white",
            "ticks": ""
           }
          },
          "title": {
           "x": 0.05
          },
          "xaxis": {
           "automargin": true,
           "gridcolor": "white",
           "linecolor": "white",
           "ticks": "",
           "title": {
            "standoff": 15
           },
           "zerolinecolor": "white",
           "zerolinewidth": 2
          },
          "yaxis": {
           "automargin": true,
           "gridcolor": "white",
           "linecolor": "white",
           "ticks": "",
           "title": {
            "standoff": 15
           },
           "zerolinecolor": "white",
           "zerolinewidth": 2
          }
         }
        },
        "title": {
         "text": ""
        },
        "width": 500,
        "xaxis": {
         "title": {
          "text": "d"
         }
        },
        "yaxis": {
         "title": {
          "text": "ro"
         }
        }
       }
      }
     },
     "metadata": {},
     "output_type": "display_data"
    }
   ],
   "source": [
    "fig = go.Figure(data =\n",
    "    go.Heatmap(\n",
    "        x = r0s,\n",
    "        y = ds,\n",
    "        z = zs,\n",
    "        zsmooth='best'\n",
    "        # colorscale='Hot',\n",
    "        # contours=dict(\n",
    "        #     start=-1,\n",
    "        #     end=2,\n",
    "        #     size=5,\n",
    "        # ),\n",
    "    ))\n",
    "fig.update_layout(title='', autosize=False,\n",
    "                  width=500, height=400,\n",
    "                  margin=dict(l=15, r=15, b=15, t=35))\n",
    "fig['layout']['xaxis'].update(title='d')\n",
    "fig['layout']['yaxis'].update(title='ro')\n",
    "fig.show()"
   ]
  },
  {
   "cell_type": "code",
   "execution_count": null,
   "metadata": {},
   "outputs": [],
   "source": []
  }
 ],
 "metadata": {
  "interpreter": {
   "hash": "8cdd4720bede866ee1b3071e84d868d1c4a135aa16519d603c9b26c0f1a0af05"
  },
  "kernelspec": {
   "display_name": "Python 3.10.4 64-bit",
   "language": "python",
   "name": "python3"
  },
  "language_info": {
   "codemirror_mode": {
    "name": "ipython",
    "version": 3
   },
   "file_extension": ".py",
   "mimetype": "text/x-python",
   "name": "python",
   "nbconvert_exporter": "python",
   "pygments_lexer": "ipython3",
   "version": "3.10.4"
  },
  "orig_nbformat": 4
 },
 "nbformat": 4,
 "nbformat_minor": 2
}
